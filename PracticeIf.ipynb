{
 "cells": [
  {
   "cell_type": "markdown",
   "metadata": {},
   "source": [
    "**예제 1. 윤년  프로그램을 통한 연산자 및 조건식 이해하기**\n",
    "\n",
    "- 4로 나누어 떨어지는 년도 : 값 % 4이 0    \n",
    "- 그 중 100으로 나누어 떨어지는 년도는 윤년이 아님 : 값 % 100 의 0과 비교\n",
    "- 400으로 나누어 떨어지는 년도는 무조건 윤년 : 1+2 또는 3번째 조건식 비교( 값 % 400와 0 비교)"
   ]
  },
  {
   "cell_type": "code",
   "execution_count": 1,
   "metadata": {},
   "outputs": [
    {
     "name": "stdout",
     "output_type": "stream",
     "text": [
      "윤년 아님\n"
     ]
    }
   ],
   "source": [
    "year = 1900\n",
    "if (year % 4 == 0 and year % 100 != 0) or year % 400 == 0 :\n",
    "  print('윤년')\n",
    "else:\n",
    "  print('윤년 아님')"
   ]
  },
  {
   "cell_type": "markdown",
   "metadata": {},
   "source": [
    "**예제 2. 문자열의 중간 문자를 추출해 보기**\n",
    "\n",
    "문자열의 중앙에 있는 문자를 출력한다. 예를 들어서 문자열이 \"weekday\"이라면 중앙의 문자는 \"k\"가 된다.<br>\n",
    "하지만 만약 문자열이 짝수개의 문자를 가지고 있다면 중앙의 2개의 글자를 출력한다.<br>\n",
    "예를 들어서 \"string\" 문자열에서는 \"ri\"를 반환한다. "
   ]
  },
  {
   "cell_type": "code",
   "execution_count": 2,
   "metadata": {},
   "outputs": [
    {
     "name": "stdout",
     "output_type": "stream",
     "text": [
      "asfg43\n",
      "fg\n"
     ]
    }
   ],
   "source": [
    "def count(v1):\n",
    "    v2 = len(v1)\n",
    "    if v2 % 2 == 1:\n",
    "        v3 = v2//2 \n",
    "        v4 = v1[v3:v3+1]\n",
    "        return v4\n",
    "    else:\n",
    "        v3 = v2//2 - 1\n",
    "        v4 = v1[v3:v3+2]\n",
    "        return v4\n",
    "print(count(input()))"
   ]
  },
  {
   "cell_type": "markdown",
   "metadata": {},
   "source": [
    "**예제 3. 임금 계산해 보기**\n",
    "\n",
    "사용자에게 근무 시간과 시간당 임금을 물어보고, 주당 근무 시간이 40시간을 넘으면 1.5배의 임금을 지급해야 한다고 가정할 경우<br> \n",
    "이번주에 받는 총임금을 계산하는 프로그램을 만들어 보자"
   ]
  },
  {
   "cell_type": "code",
   "execution_count": 5,
   "metadata": {},
   "outputs": [
    {
     "data": {
      "text/plain": [
       "387000.0"
      ]
     },
     "execution_count": 5,
     "metadata": {},
     "output_type": "execute_result"
    }
   ],
   "source": [
    "def usr_sel(time,sel):\n",
    "    if time >= 40:\n",
    "        return ( sel * 40 ) + ( sel * (time - 40) * 1.5 )\n",
    "    else :\n",
    "        return sel * time\n",
    "usr_sel(42,9000)"
   ]
  },
  {
   "cell_type": "markdown",
   "metadata": {},
   "source": [
    "**예제 4. 알고리즘 연습예제**\n",
    "\n",
    "각 자리가 숫자로만 이루어진 문자열 S가 주어졌을 때, 왼쪽부터 오른쪽으로 하나씩 모든 숫자를 확인하며 숫자 사이에 'x' 혹은 '+' 연산자를 넣어 결과적으로 만들어질 수 있는 가장 큰 수를 구하세요 (단, +보다 x를 먼저 계산하지 않고, 모든 연산은 왼쪽에서 순서대로 이루어진다고 가정한다.)\n"
   ]
  },
  {
   "cell_type": "code",
   "execution_count": 9,
   "metadata": {},
   "outputs": [
    {
     "name": "stdout",
     "output_type": "stream",
     "text": [
      "숫자입력:515\n",
      "30\n"
     ]
    }
   ],
   "source": [
    "# 방법 1\n",
    "raw = input('숫자입력:')\n",
    "result = 0\n",
    "\n",
    "for i in range(len(raw)):\n",
    "    plus = 0\n",
    "    gop = 0\n",
    "    plus = result + int(raw[i])\n",
    "    gop = result * int(raw[i])\n",
    "    if plus > gop:\n",
    "        result = plus\n",
    "    else:\n",
    "        result = gop\n",
    "print(result)\n"
   ]
  },
  {
   "cell_type": "code",
   "execution_count": 10,
   "metadata": {},
   "outputs": [
    {
     "name": "stdout",
     "output_type": "stream",
     "text": [
      "숫자입력:6\n",
      "6\n"
     ]
    }
   ],
   "source": [
    "# 방법 2\n",
    "data = input('숫자입력:')\n",
    "\n",
    "result = int(data[0])\n",
    "\n",
    "for i in range(1, len(data)):\n",
    "\n",
    "    num = int(data[i])\n",
    "    \n",
    "    if num <= 1 or result <= 1:\n",
    "    \tresult += num\n",
    "    else:\n",
    "    \tresult *= num\n",
    "        \n",
    "print(result)"
   ]
  },
  {
   "cell_type": "markdown",
   "metadata": {},
   "source": [
    "**예제 5. 숫자로 피라미드 만들기**"
   ]
  },
  {
   "cell_type": "code",
   "execution_count": null,
   "metadata": {},
   "outputs": [],
   "source": [
    "# 방법 1\n",
    "def pyramid(v):\n",
    "    a = 1\n",
    "    b = 0\n",
    "    for i in range(1,v+1):\n",
    "        print()\n",
    "        b = a\n",
    "        a = a + i\n",
    "        for i2 in range(b,a):\n",
    "            print(i2, end = ' ')\n",
    "floor = int(input(\"피라미드의 층을 입력하세요 : \"))\n",
    "pyramid(floor)"
   ]
  },
  {
   "cell_type": "code",
   "execution_count": null,
   "metadata": {},
   "outputs": [],
   "source": [
    "def pyramid2(v):\n",
    "    for data in range(1, v+1):\n",
    "        for i in range(data):\n",
    "            print(data, end='')\n",
    "        print()\n",
    "        \n",
    "floor2 = int(input(\"피라미드의 층을 입력하세요 : \"))\n",
    "pyramid2(floor2)"
   ]
  },
  {
   "cell_type": "markdown",
   "metadata": {},
   "source": [
    "**예제 6. 소수 출력**"
   ]
  },
  {
   "cell_type": "code",
   "execution_count": null,
   "metadata": {},
   "outputs": [],
   "source": [
    "def find(v):\n",
    "    \n",
    "    for a in range(2,v+1):\n",
    "        \n",
    "        for b in range(2,a+1):\n",
    "            \n",
    "            if a % b == 0 and a != b:\n",
    "                break\n",
    "                \n",
    "            elif a == b:\n",
    "                print(a, end = ' ')\n",
    "                \n",
    "v=int(input('범위 입력:'))\n",
    "find(v)"
   ]
  },
  {
   "cell_type": "markdown",
   "metadata": {},
   "source": [
    "**예제 7. 회원 방문 환영**<br>\n",
    "아이디를 입력받아서 회원인지 판별하고 방문한 횟수를 출력하세요.\n",
    "\n",
    "조건\n",
    "\n",
    "1. users = ['a', 'b', 'c', 'd'], counts = [0, 0, 0, 0] 를 전역변수로 설정한다.\n",
    "2. id를 입력받고 users에 인덱스로 접근해서 동일한 id가 있는지 확인한다.\n",
    "3. 있다면 counts 리스트에서 같은 인덱스에 1을 더한다.\n",
    "4. 없다면 존재하지 않는 회원임을 알려준다."
   ]
  },
  {
   "cell_type": "code",
   "execution_count": null,
   "metadata": {},
   "outputs": [],
   "source": [
    "def login_check(id):\n",
    "    for idx in range(len(users)):\n",
    "        if id != users[idx]:\n",
    "            exist = True        \n",
    "        else:\n",
    "            counts[idx] += 1\n",
    "            print('환영합니다',id,'님',counts[idx],'번째 로그인은 하셨습니다.')\n",
    "            exist = False\n",
    "            break\n",
    "\n",
    "    if exist:\n",
    "        print(\"해당 id가 없습니다.\")\n",
    "login_check('e')"
   ]
  },
  {
   "cell_type": "markdown",
   "metadata": {},
   "source": [
    "**예제 8. 거스름돈**\n",
    "\n",
    "당신은 음식점의 계산을 도와주는 점원입니다.\n",
    "\n",
    "카운터에 거스름돈으로 사용할 500원, 100원, 50원, 10원짜리 동전히 무한히 존재한다고 가정합니다.\n",
    "\n",
    "손님에게 거슬러 주어야 할 돈이 N원일 때 거슬러 주어야 할 동전의 최소 개수를 구하세요. (단, 거슬러 줘야 할 돈 N은 항상 10의 배수)"
   ]
  },
  {
   "cell_type": "code",
   "execution_count": null,
   "metadata": {},
   "outputs": [],
   "source": [
    "def change(v):\n",
    "    count = 0\n",
    "    a = v // 500\n",
    "    money = v - ( (a * 500) )\n",
    "    count = count + a\n",
    "    b = (money // 100)\n",
    "    money = money - ( b * 100)\n",
    "    count = b + count\n",
    "    c = (money // 50)\n",
    "    money = money - (c * 50)\n",
    "    count = c + count\n",
    "    d = (money // 10)\n",
    "    money = money - (d * 10)\n",
    "    count = d + count\n",
    "    return count\n",
    "change(1280)"
   ]
  },
  {
   "cell_type": "markdown",
   "metadata": {},
   "source": [
    "**예제 9. 팩토리얼 계산**\n",
    ">반복문을 활용하여 팩토리얼 계산해 보기<br>\n",
    "for문과 while문을 활용하여 각각 만들어 보기<br>\n",
    "팩토리얼 n!은 1~n까지의 정수를 모두 곱한 것을 의미한다<br>\n",
    "n! = 1*2*3*...(n-1)*n\n",
    "\n",
    ">힌트 : range() 함수를 이용"
   ]
  },
  {
   "cell_type": "code",
   "execution_count": null,
   "metadata": {},
   "outputs": [],
   "source": [
    "def fac(v):\n",
    "    result = 1\n",
    "    for i in range(1,v+1):\n",
    "        result = result * i\n",
    "    print(result)"
   ]
  },
  {
   "cell_type": "code",
   "execution_count": 5,
   "metadata": {},
   "outputs": [],
   "source": [
    "x = 1\n",
    "y = 2\n",
    "if x == y :\n",
    "    print(\"두개의 값은 같음!\")\n"
   ]
  },
  {
   "cell_type": "code",
   "execution_count": 14,
   "metadata": {},
   "outputs": [
    {
     "name": "stdout",
     "output_type": "stream",
     "text": [
      "난방 가동\n"
     ]
    }
   ],
   "source": [
    "heated = True\n",
    "if not heated == True :\n",
    "    print(\"난방이 가동되지 않았음!\")\n",
    "else:\n",
    "    print('난방 가동')\n"
   ]
  },
  {
   "cell_type": "code",
   "execution_count": 16,
   "metadata": {},
   "outputs": [
    {
     "name": "stdout",
     "output_type": "stream",
     "text": [
      "B\n"
     ]
    }
   ],
   "source": [
    "score = 87\n",
    "\n",
    "if score >= 90:\n",
    "    grade = \"A\"\n",
    "elif score >= 80:\n",
    "    grade = \"B\"\n",
    "elif score >= 70:\n",
    "    grade = \"C\"\n",
    "elif score >= 60:\n",
    "    grade = \"D\"\n",
    "    \n",
    "print(grade)"
   ]
  },
  {
   "cell_type": "code",
   "execution_count": 21,
   "metadata": {},
   "outputs": [
    {
     "name": "stdout",
     "output_type": "stream",
     "text": [
      "-1\n",
      "음수\n"
     ]
    }
   ],
   "source": [
    "v = int(input())\n",
    "\n",
    "if v > 0:\n",
    "    print('양수')\n",
    "elif v == 0:\n",
    "    print(0)\n",
    "else:\n",
    "    print('음수')"
   ]
  },
  {
   "cell_type": "code",
   "execution_count": 24,
   "metadata": {},
   "outputs": [
    {
     "name": "stdout",
     "output_type": "stream",
     "text": [
      "국가를 입력하시오:미국\n",
      "배송료는 20000원 입니다\n"
     ]
    }
   ],
   "source": [
    "con = input('국가를 입력하시오:')\n",
    "\n",
    "if con != '한국':\n",
    "    print('배송료는 20000원 입니다')\n",
    "else:\n",
    "    state = input('도를 입력하시오:')\n",
    "    if state == '제주도':\n",
    "        print('배송료는 10000원 입니다')\n",
    "    else:\n",
    "        print('배송료는 5000원 입니다')"
   ]
  },
  {
   "cell_type": "code",
   "execution_count": 3,
   "metadata": {
    "scrolled": true
   },
   "outputs": [
    {
     "name": "stdout",
     "output_type": "stream",
     "text": [
      "39+43의 값은?82\n",
      "맞았습니다\n"
     ]
    }
   ],
   "source": [
    "import random\n",
    "\n",
    "v1 =  random.randint(1, 100)\n",
    "v2 = random.randint(1, 100)\n",
    "res = v1 +v2\n",
    "\n",
    "usr=int(input('{}+{}의 값은?'.format(v1,v2)))\n",
    "if usr == res:\n",
    "    print('맞았습니다')\n",
    "else:\n",
    "    print('틀림')"
   ]
  },
  {
   "cell_type": "code",
   "execution_count": 4,
   "metadata": {
    "scrolled": false
   },
   "outputs": [
    {
     "name": "stdout",
     "output_type": "stream",
     "text": [
      "59+26의 값은?12\n",
      "틀림,정답=85\n"
     ]
    }
   ],
   "source": [
    "import random\n",
    "\n",
    "v1 =  random.randint(1, 100)\n",
    "v2 = random.randint(1, 100)\n",
    "v3 = random.randint(1, 4)\n",
    "if v3 == 1:\n",
    "    res = v1 +v2\n",
    "    usr=int(input('{}+{}의 값은?'.format(v1,v2)))\n",
    "elif v3 == 2:\n",
    "    res = v1 -v2\n",
    "    usr=int(input('{}-{}의 값은?'.format(v1,v2)))\n",
    "elif v3 == 3:\n",
    "    res = v1 *v2\n",
    "    usr=int(input('{}*{}의 값은?'.format(v1,v2)))\n",
    "elif v3 == 4:\n",
    "    res = v1 /v2\n",
    "    usr=int(input('{}/{}의 값은?'.format(v1,v2)))\n",
    "\n",
    "if usr == res:\n",
    "    print('맞았습니다')\n",
    "else:\n",
    "    print('틀림,정답={}'.format(res))"
   ]
  },
  {
   "cell_type": "code",
   "execution_count": 8,
   "metadata": {},
   "outputs": [
    {
     "name": "stdout",
     "output_type": "stream",
     "text": [
      "6\n",
      "둘다\n"
     ]
    }
   ],
   "source": [
    "v = int(input())\n",
    "\n",
    "if v % 6 == 0:\n",
    "    print('둘다')\n",
    "elif v % 2 != 0 and v % 3 != 0 :\n",
    "    print('둘다 아님')\n",
    "else:\n",
    "    print('둘중 하나')\n"
   ]
  },
  {
   "cell_type": "code",
   "execution_count": 19,
   "metadata": {},
   "outputs": [
    {
     "data": {
      "text/plain": [
       "'01'"
      ]
     },
     "execution_count": 19,
     "metadata": {},
     "output_type": "execute_result"
    }
   ],
   "source": [
    "v1 =  random.randint(1, 100)\n",
    "usr = input('복권 번호(1-99사이)를 입력하시오: ')\n",
    "cnt = 0\n",
    "\n",
    "if v1 < 10:\n",
    "    v2 = '0' + str(v1)\n",
    "else:\n",
    "    v2 = str(v1)\n",
    "\n",
    "    \n",
    "for i in v2:\n",
    "    \n",
    "    usr[cnt]\n",
    "    "
   ]
  }
 ],
 "metadata": {
  "kernelspec": {
   "display_name": "Python 3",
   "language": "python",
   "name": "python3"
  },
  "language_info": {
   "codemirror_mode": {
    "name": "ipython",
    "version": 3
   },
   "file_extension": ".py",
   "mimetype": "text/x-python",
   "name": "python",
   "nbconvert_exporter": "python",
   "pygments_lexer": "ipython3",
   "version": "3.8.5"
  }
 },
 "nbformat": 4,
 "nbformat_minor": 4
}
