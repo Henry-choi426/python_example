{
 "cells": [
  {
   "cell_type": "code",
   "execution_count": 47,
   "metadata": {},
   "outputs": [],
   "source": [
    "# 필요한 변수 선언n \n",
    "'''\n",
    "address_number = {'강서구' : 1, '양천구' : 2, '구로구' : 3, '영등포구' : 4, \\\n",
    "                  '금천구' : 5, '관악구' : 6, '동작구' : 7, '서초구' : 8,  \\\n",
    "                  '강남구' : 9, '송파구' : 10, '강동구' : 11}\n",
    "'''\n",
    "\n",
    "address_number = {'강서구' : 1, '양천구' : 2, '구로구' : 3, '영등포구' : 4, \\\n",
    "                  '금천구' : 5, '관악구' : 6}\n",
    "\n",
    "store = {'강서구' : ['네네치킨'], \\\n",
    "         '구로구': ['신전떡볶이', '명랑핫도그'], \\\n",
    "         '양천구' : ['피자헛'],\\\n",
    "         '구로구' : ['와와닭발'],\\\n",
    "         '영등포구' : ['맥도날드', '00중국집'],\\\n",
    "         '관악구' : ['따봉돈까스']\n",
    "        }\n",
    "\n",
    "menu = {'네네치킨':{'후라이드':16000,'양념':17000,'치즈':18000},\\\n",
    "        '신전떡볶이' : {'순한맛': 4000, '중간맛' : 4000, '매운맛' : 4000},\\\n",
    "        '명랑핫도그' : {'치즈핫도그' : 2300, '감자핫도그':2300},\\\n",
    "        '와와닭발':{'국물닭발':19000,'뼈없는닭발':19000,'통뼈닭발':17000},\\\n",
    "        '피자헛':{'치즈':16900,'페페로니':16900,'슈퍼슈프림':19900},\\\n",
    "        '맥도날드':{'빅맥':4000,'맥스파이시':5000,'불고기버거':3000},\\\n",
    "        '중국집':{'짜장면':4000,'짬뽕':5000,'유산슬':8000},\\\n",
    "        '따봉돈까스':{'일반돈까스':6000,'매운맛돈까스':7000,'더블돈까스':9000}}\n"
   ]
  },
  {
   "cell_type": "code",
   "execution_count": 88,
   "metadata": {},
   "outputs": [],
   "source": [
    "def login_check():\n",
    "    '''\n",
    "    입력한 id와 pw가 일치한다면 True\n",
    "    아니면 False를 반환하는 함수\n",
    "    '''\n",
    "    input_id = input(\"아이디 입력 : \")\n",
    "    input_pw = int(input(\"비밀번호 입력 \"))\n",
    "    \n",
    "    if input_id == \"playdata\":\n",
    "        \n",
    "        if input_pw == 123456:\n",
    "            return True\n",
    "        else: \n",
    "            return False\n",
    "        \n",
    "    else:\n",
    "        return False\n"
   ]
  },
  {
   "cell_type": "code",
   "execution_count": 89,
   "metadata": {},
   "outputs": [],
   "source": [
    "def get_address():\n",
    "    '''\n",
    "    내가 배달을 시킬 곳의 주소와 배달 가능한 지역을 반환하는 함수\n",
    "    '''\n",
    "    address = input(\"주소지 입력 : \")\n",
    "    lst = []\n",
    "    \n",
    "    for key, value in address_number.items():\n",
    "        diff = address_number[address] - value\n",
    "        if -2 <= diff <= 2:\n",
    "            lst.append(key)\n",
    "            \n",
    "    print(\"-\"*50)\n",
    "    print(\"우리 동네에서 배달 가능한 지역\")\n",
    "    print(\"-\"*50)\n",
    "    \n",
    "    for addr in lst:\n",
    "        print(addr, end = ' | ')\n",
    "    print(\"\")\n",
    "    \n",
    "    return address, lst "
   ]
  },
  {
   "cell_type": "code",
   "execution_count": 95,
   "metadata": {},
   "outputs": [],
   "source": [
    "def store_name(addr, lst):\n",
    "    '''\n",
    "    lst(배달가능한 곳의 지역, 리스트)와 addr(내가 주문 시킬 곳,string)\n",
    "    을 입력받아 조건에 맞는 가게를 선택하여 반환하는 함수\n",
    "    '''\n",
    "    select_store = []\n",
    "    \n",
    "    for i in store:\n",
    "        if i in lst:\n",
    "            select_store.append(store[i])\n",
    "    \n",
    "    print(\"\\n\\n주문 가능한 가게들 \")\n",
    "    \n",
    "    for value in select_store:\n",
    "        print(value, end = 'l')\n",
    "    \n",
    "    print(\"\")\n",
    "    want_store = input(\"가게입력 : \")\n",
    "\n",
    "    return want_store"
   ]
  },
  {
   "cell_type": "code",
   "execution_count": 96,
   "metadata": {},
   "outputs": [],
   "source": [
    "def menu_select(sel_store):\n",
    "    '''\n",
    "    선택된 가게를 인자로 받아 주문할 메뉴와 수량을 선택하여\n",
    "    장바구니에 담고 이를 반환하는 함수\n",
    "    '''\n",
    "    shopping_cart = {}\n",
    "    \n",
    "    while True:\n",
    "        print(menu[sel_store])\n",
    "        sel_menu = input('주문하실 메뉴명을 입력해주세요.')\n",
    "        if sel_menu in menu[sel_store]:\n",
    "            while True:\n",
    "                sel_cnt=input('주문하실 수량을 입력하세요.')\n",
    "                if sel_cnt.isdigit():\n",
    "                    break\n",
    "                else:\n",
    "                    print('숫자를 입력하세요')\n",
    "            if sel_menu in shopping_cart:\n",
    "                shopping_cart[sel_menu] += int(sel_cnt)\n",
    "            else:\n",
    "                shopping_cart[sel_menu] = int(sel_cnt)\n",
    "            print('장바구니에 %s 메뉴 %s개 가 추가되었습니다.' % (sel_menu,sel_cnt))\n",
    "            if input('추가 주문을 하신다면 1, 주문을 완료하신다면 2를 입력해주세요.') == '2':\n",
    "                break\n",
    "        else:\n",
    "            print('메뉴명을 확인해주세요.')\n",
    "            \n",
    "    return shopping_cart\n",
    "\n"
   ]
  },
  {
   "cell_type": "code",
   "execution_count": 97,
   "metadata": {},
   "outputs": [],
   "source": [
    "def total_pay(sel_store, shopping_cart):\n",
    "    price = 0\n",
    "    for k,v in shopping_cart.items():\n",
    "        price += menu[sel_store][k] * v\n",
    "    print('메뉴 총 가격 :',price)\n"
   ]
  },
  {
   "cell_type": "code",
   "execution_count": 98,
   "metadata": {},
   "outputs": [],
   "source": [
    "def delivery_service():\n",
    "    '''\n",
    "    배달 사이트에서 로그인하여 주문하는 과정까지를 나타내는 함수 \n",
    "    '''\n",
    "    if login_check(): \n",
    "        print(\"!로그인 성공!\")\n",
    "        print(\"서비스 가능 지역\")\n",
    "        \n",
    "        for i in address_number:\n",
    "            print(i, end = ' | ')\n",
    "            \n",
    "        my_address, avail_address = get_address() \n",
    "        select_store_name = store_name(my_address, avail_address)\n",
    "        shopping_dict = menu_select(select_store_name)\n",
    "        total_pay(select_store_name, shopping_dict)\n",
    "    else:\n",
    "        (\"로그인 실패\")\n",
    "    "
   ]
  },
  {
   "cell_type": "code",
   "execution_count": 104,
   "metadata": {
    "scrolled": false
   },
   "outputs": [
    {
     "name": "stdout",
     "output_type": "stream",
     "text": [
      "아이디 입력 : playdata\n",
      "비밀번호 입력 123456\n",
      "!로그인 성공!\n",
      "서비스 가능 지역\n",
      "강서구 | 양천구 | 구로구 | 영등포구 | 금천구 | 관악구 | 주소지 입력 : 강서구\n",
      "--------------------------------------------------\n",
      "우리 동네에서 배달 가능한 지역\n",
      "--------------------------------------------------\n",
      "강서구 | 양천구 | 구로구 | \n",
      "\n",
      "\n",
      "주문 가능한 가게들 \n",
      "['네네치킨']l['와와닭발']l['피자헛']l\n",
      "가게입력 : 네네치킨\n",
      "{'후라이드': 16000, '양념': 17000, '치즈': 18000}\n",
      "주문하실 메뉴명을 입력해주세요.후라이드\n",
      "주문하실 수량을 입력하세요.2\n",
      "장바구니에 후라이드 메뉴 2개 가 추가되었습니다.\n",
      "추가 주문을 하신다면 1, 주문을 완료하신다면 2를 입력해주세요.1\n",
      "{'후라이드': 16000, '양념': 17000, '치즈': 18000}\n",
      "주문하실 메뉴명을 입력해주세요.양념\n",
      "주문하실 수량을 입력하세요.2\n",
      "장바구니에 양념 메뉴 2개 가 추가되었습니다.\n",
      "추가 주문을 하신다면 1, 주문을 완료하신다면 2를 입력해주세요.2\n",
      "메뉴 총 가격 : 66000\n"
     ]
    }
   ],
   "source": [
    "delivery_service()"
   ]
  }
 ],
 "metadata": {
  "kernelspec": {
   "display_name": "Python 3",
   "language": "python",
   "name": "python3"
  },
  "language_info": {
   "codemirror_mode": {
    "name": "ipython",
    "version": 3
   },
   "file_extension": ".py",
   "mimetype": "text/x-python",
   "name": "python",
   "nbconvert_exporter": "python",
   "pygments_lexer": "ipython3",
   "version": "3.8.5"
  }
 },
 "nbformat": 4,
 "nbformat_minor": 4
}
