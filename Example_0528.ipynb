{
 "cells": [
  {
   "cell_type": "code",
   "execution_count": 2,
   "metadata": {},
   "outputs": [
    {
     "data": {
      "text/plain": [
       "3"
      ]
     },
     "execution_count": 2,
     "metadata": {},
     "output_type": "execute_result"
    }
   ],
   "source": [
    "# 1. 문자열 내적\n",
    "a = [1,2,3,4]\n",
    "b = [-3,-1,0,2]\n",
    "res = 0\n",
    "c = 0\n",
    "for v1 in a:\n",
    "    res += v1 * b[c]\n",
    "    c += 1\n",
    "res"
   ]
  },
  {
   "cell_type": "code",
   "execution_count": 17,
   "metadata": {
    "scrolled": true
   },
   "outputs": [
    {
     "name": "stdout",
     "output_type": "stream",
     "text": [
      "1번 점수 : 2\n",
      "2번 점수 : 0\n",
      "3번 점수 : 0\n"
     ]
    }
   ],
   "source": [
    "# 수포자 점수 측정\n",
    "\n",
    "s1 = [1,2,3,4,5] # 5개\n",
    "s2 = [2,1,2,3,2,4,2,5] #8개\n",
    "s3 = [3,3,1,1,2,2,4,4,5,5] # 10개\n",
    "\n",
    "idx = [0,0,0]\n",
    "c1 = 0\n",
    "c2 = 0\n",
    "c3 = 0\n",
    "cnt = 0\n",
    "\n",
    "r1 = 0\n",
    "r2 = 0\n",
    "r3 = 0\n",
    "\n",
    "answer = [1,2]\n",
    "for i in answer:\n",
    "    c1 = cnt % 5\n",
    "    c2 = cnt % 8\n",
    "    c3 = cnt % 10\n",
    "    \n",
    "    if s1[c1] == i:\n",
    "        r1 += 1\n",
    "    if s2[c2] == i:\n",
    "        r2 += 1\n",
    "    if s3[c3] == i:\n",
    "        r3 += 1\n",
    "\n",
    "    cnt += 1\n",
    "print('1번 점수 :',r1)\n",
    "print('2번 점수 :',r2)\n",
    "print('3번 점수 :',r3)"
   ]
  },
  {
   "cell_type": "code",
   "execution_count": 25,
   "metadata": {
    "scrolled": true
   },
   "outputs": [
    {
     "name": "stdout",
     "output_type": "stream",
     "text": [
      "1번 점수 : 2\n",
      "2번 점수 : 2\n",
      "3번 점수 : 2\n"
     ]
    }
   ],
   "source": [
    "# 수포자 점수 측정 문제 이중 for loop 활용\n",
    "\n",
    "s1 = [1,2,3,4,5] # 5개\n",
    "s2 = [2,1,2,3,2,4,2,5] #8개\n",
    "s3 = [3,3,1,1,2,2,4,4,5,5] # 10개\n",
    "\n",
    "student = s1,s2,s3\n",
    "\n",
    "idx = [0,0,0]\n",
    "rng = [5,8,10]\n",
    "cnt = 0\n",
    "\n",
    "rst = [0,0,0]\n",
    "\n",
    "answer = [1,3,2,4,2]\n",
    "for i in answer:\n",
    "    \n",
    "    for a in range(3):\n",
    "        \n",
    "        idx[a] = cnt % rng[a]\n",
    "        if student[a][idx[a]] == i:\n",
    "            rst[a] +=1\n",
    "            \n",
    "    cnt += 1\n",
    "print('1번 점수 :',rst[0])\n",
    "print('2번 점수 :',rst[1])\n",
    "print('3번 점수 :',rst[2])"
   ]
  },
  {
   "cell_type": "code",
   "execution_count": null,
   "metadata": {},
   "outputs": [],
   "source": []
  }
 ],
 "metadata": {
  "kernelspec": {
   "display_name": "Python 3",
   "language": "python",
   "name": "python3"
  },
  "language_info": {
   "codemirror_mode": {
    "name": "ipython",
    "version": 3
   },
   "file_extension": ".py",
   "mimetype": "text/x-python",
   "name": "python",
   "nbconvert_exporter": "python",
   "pygments_lexer": "ipython3",
   "version": "3.8.5"
  }
 },
 "nbformat": 4,
 "nbformat_minor": 4
}
