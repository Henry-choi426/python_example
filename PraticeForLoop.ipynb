{
 "cells": [
  {
   "cell_type": "markdown",
   "metadata": {},
   "source": [
    "1. 어떤 사람이 복리이자율 7%로 1000만원을 저금했을 경우에 2000만원이 되는데 몇 년이 걸리는지 계산하기 위하여 다음과 코드를 작성하였다. 잘못된 점은 없는지 체크해보자"
   ]
  },
  {
   "cell_type": "code",
   "execution_count": 8,
   "metadata": {},
   "outputs": [],
   "source": [
    "year = 0\n",
    "balance = 1000\n",
    "\n",
    "while balance >= 2000 : \n",
    "    year = year + 1\n",
    "    interest = balance * 0.07\n",
    "    balance = balance + interest\n"
   ]
  },
  {
   "cell_type": "code",
   "execution_count": 10,
   "metadata": {},
   "outputs": [
    {
     "name": "stdout",
     "output_type": "stream",
     "text": [
      "11\n"
     ]
    }
   ],
   "source": [
    "year = 0\n",
    "balance = 1000\n",
    "\n",
    "while balance <= 2000 : \n",
    "    year = year + 1\n",
    "    interest = balance * 0.07\n",
    "    balance = balance + interest\n",
    "print(year)"
   ]
  },
  {
   "cell_type": "code",
   "execution_count": 14,
   "metadata": {},
   "outputs": [
    {
     "name": "stdout",
     "output_type": "stream",
     "text": [
      "60+73의 값은?1\n",
      "틀림\n",
      "60+73의 값은?1\n",
      "틀림\n",
      "60+73의 값은?1\n",
      "틀림\n",
      "60+73의 값은?133\n",
      "맞았습니다\n"
     ]
    }
   ],
   "source": [
    "import random\n",
    "\n",
    "i = 0\n",
    "v1 =  random.randint(1, 100)\n",
    "v2 = random.randint(1, 100)\n",
    "res = v1 +v2\n",
    "\n",
    "while i < 1:\n",
    "    usr=int(input('{}+{}의 값은?'.format(v1,v2)))\n",
    "    if usr == res:\n",
    "        print('맞았습니다')\n",
    "        break\n",
    "    else:\n",
    "        print('틀림')"
   ]
  },
  {
   "cell_type": "code",
   "execution_count": 17,
   "metadata": {},
   "outputs": [
    {
     "name": "stdout",
     "output_type": "stream",
     "text": [
      "정수를 입력하시오:1\n",
      "정수를 입력하시오:3\n",
      "정수를 입력하시오:5\n",
      "정수를 입력하시오:2\n",
      "정수를 입력하시오:5\n",
      "정수를 입력하시오:0\n",
      "합은 16 입니다\n"
     ]
    }
   ],
   "source": [
    "i = 0\n",
    "v1 = 0 \n",
    "v2 = 0\n",
    "while i < 1:\n",
    "    v1 = int(input('정수를 입력하시오:'))\n",
    "    v2 += v1\n",
    "    if v1 == 0:\n",
    "        break\n",
    "print(f'합은 {v2} 입니다')"
   ]
  },
  {
   "cell_type": "code",
   "execution_count": 20,
   "metadata": {},
   "outputs": [
    {
     "name": "stdout",
     "output_type": "stream",
     "text": [
      "1 2 3 4 5 6 7 8 9 \n",
      "2 4 6 8 10 12 14 16 18 \n",
      "3 6 9 12 15 18 21 24 27 \n",
      "4 8 12 16 20 24 28 32 36 \n",
      "5 10 15 20 25 30 35 40 45 \n",
      "6 12 18 24 30 36 42 48 54 \n",
      "7 14 21 28 35 42 49 56 63 \n",
      "8 16 24 32 40 48 56 64 72 \n",
      "9 18 27 36 45 54 63 72 81 \n"
     ]
    }
   ],
   "source": [
    "for v1 in range(1,10):\n",
    "    for v2 in range(1,10):\n",
    "        print(v1*v2, end = ' ')\n",
    "    print()"
   ]
  },
  {
   "cell_type": "code",
   "execution_count": null,
   "metadata": {},
   "outputs": [],
   "source": [
    "v1 = int(input('첫번째 정수:'))\n",
    "v2 = int(input('두번째 정수:'))\n",
    "i=1\n",
    "\n",
    "while i <= v1 or i <= v2:\n",
    "    if v1 % i == 0 and v2 % i == 0:\n",
    "        max = i\n",
    "    i += 1\n",
    "print(i)"
   ]
  },
  {
   "cell_type": "code",
   "execution_count": 3,
   "metadata": {},
   "outputs": [
    {
     "data": {
      "text/plain": [
       "11"
      ]
     },
     "execution_count": 3,
     "metadata": {},
     "output_type": "execute_result"
    }
   ],
   "source": [
    "v1 = 1000\n",
    "y = 0\n",
    "while v1 <= 2000:\n",
    "    v1 *= 1.07\n",
    "    y +=1\n",
    "y"
   ]
  },
  {
   "cell_type": "code",
   "execution_count": 4,
   "metadata": {},
   "outputs": [
    {
     "name": "stdout",
     "output_type": "stream",
     "text": [
      "91.60544298452274\n"
     ]
    }
   ],
   "source": [
    "v1 = 0\n",
    "for i in range(3,102):\n",
    "    v1 += (i-2) / i\n",
    "print(v1)"
   ]
  },
  {
   "cell_type": "code",
   "execution_count": 5,
   "metadata": {},
   "outputs": [
    {
     "name": "stdout",
     "output_type": "stream",
     "text": [
      "1 1 1 1 \n",
      "2 4 8 16 \n",
      "3 9 27 81 \n",
      "4 16 64 256 \n",
      "5 25 125 625 \n",
      "6 36 216 1296 \n",
      "7 49 343 2401 \n",
      "8 64 512 4096 \n",
      "9 81 729 6561 \n",
      "10 100 1000 10000 \n"
     ]
    }
   ],
   "source": [
    "for i in range(1,11):\n",
    "    for k in range(1,5):\n",
    "        print(i**k,end=' ')\n",
    "    print()"
   ]
  },
  {
   "cell_type": "code",
   "execution_count": null,
   "metadata": {},
   "outputs": [],
   "source": []
  }
 ],
 "metadata": {
  "kernelspec": {
   "display_name": "Python 3",
   "language": "python",
   "name": "python3"
  },
  "language_info": {
   "codemirror_mode": {
    "name": "ipython",
    "version": 3
   },
   "file_extension": ".py",
   "mimetype": "text/x-python",
   "name": "python",
   "nbconvert_exporter": "python",
   "pygments_lexer": "ipython3",
   "version": "3.8.5"
  }
 },
 "nbformat": 4,
 "nbformat_minor": 4
}
